{
  "nbformat": 4,
  "nbformat_minor": 0,
  "metadata": {
    "colab": {
      "provenance": [],
      "authorship_tag": "ABX9TyOGU2VyOSFhgLTD4AC40XmL",
      "include_colab_link": true
    },
    "kernelspec": {
      "name": "python3",
      "display_name": "Python 3"
    },
    "language_info": {
      "name": "python"
    }
  },
  "cells": [
    {
      "cell_type": "markdown",
      "metadata": {
        "id": "view-in-github",
        "colab_type": "text"
      },
      "source": [
        "<a href=\"https://colab.research.google.com/github/alineaprelini/ETL/blob/main/Transforma%C3%A7%C3%A3o_dos_dados.ipynb\" target=\"_parent\"><img src=\"https://colab.research.google.com/assets/colab-badge.svg\" alt=\"Open In Colab\"/></a>"
      ]
    },
    {
      "cell_type": "code",
      "execution_count": 28,
      "metadata": {
        "id": "COZU4ThDv_oc"
      },
      "outputs": [],
      "source": [
        "import pandas as pd"
      ]
    },
    {
      "cell_type": "markdown",
      "source": [
        "**FONTE:** https://www.kaggle.com/datasets/ratikkakkar/electric-vehicle-population-data?select=Electric_Vehicle_Population_Data.csv"
      ],
      "metadata": {
        "id": "MQXo3HQ9pIJ_"
      }
    },
    {
      "cell_type": "code",
      "source": [
        "df = pd.read_csv('CarRentalData.csv')"
      ],
      "metadata": {
        "id": "RAmyYKp9w1TQ"
      },
      "execution_count": 63,
      "outputs": []
    },
    {
      "cell_type": "code",
      "source": [
        "df.head(10)"
      ],
      "metadata": {
        "colab": {
          "base_uri": "https://localhost:8080/",
          "height": 400
        },
        "id": "TwQ7ZwbBxC8A",
        "outputId": "01074e2f-60a8-4750-8218-3b4ad6c78459"
      },
      "execution_count": 30,
      "outputs": [
        {
          "output_type": "execute_result",
          "data": {
            "text/plain": [
              "   fuelType  rating  renterTripsTaken  reviewCount location.city  \\\n",
              "0  ELECTRIC    5.00                13           12       Seattle   \n",
              "1  ELECTRIC    5.00                 2            1       Tijeras   \n",
              "2    HYBRID    4.92                28           24   Albuquerque   \n",
              "3  GASOLINE    5.00                21           20   Albuquerque   \n",
              "4  GASOLINE    5.00                 3            1   Albuquerque   \n",
              "5  GASOLINE    5.00                13           12   Albuquerque   \n",
              "6  GASOLINE    4.42                13           12   Albuquerque   \n",
              "7  GASOLINE    4.90                12           10   Albuquerque   \n",
              "8  GASOLINE    5.00                 1            1   Albuquerque   \n",
              "9  GASOLINE    4.76                22           17   Albuquerque   \n",
              "\n",
              "  location.country  location.latitude  location.longitude location.state  \\\n",
              "0               US          47.449107         -122.308841             WA   \n",
              "1               US          35.111060         -106.276551             NM   \n",
              "2               US          35.127163         -106.566681             NM   \n",
              "3               US          35.149726         -106.711425             NM   \n",
              "4               US          35.208659         -106.601008             NM   \n",
              "5               US          35.068834         -106.576111             NM   \n",
              "6               US          35.045552         -106.633815             NM   \n",
              "7               US          35.186542         -106.686481             NM   \n",
              "8               US          35.061213         -106.629406             NM   \n",
              "9               US          35.115363         -106.556911             NM   \n",
              "\n",
              "   owner.id  rate.daily   vehicle.make vehicle.model vehicle.type  \\\n",
              "0  12847615         135          Tesla       Model X          suv   \n",
              "1  15621242         190          Tesla       Model X          suv   \n",
              "2  10199256          35         Toyota         Prius          car   \n",
              "3   9365496          75           Ford       Mustang          car   \n",
              "4   3553565          47       Chrysler       Sebring          car   \n",
              "5   7815747          58  Mercedes-Benz      GL-Class          suv   \n",
              "6   3112016          42            GMC      Yukon XL          suv   \n",
              "7   9536762         117           Ford    Expedition          suv   \n",
              "8  14893743         102           Ford      Focus RS          car   \n",
              "9  11389136          49           Ford      EcoSport          suv   \n",
              "\n",
              "   vehicle.year  \n",
              "0          2019  \n",
              "1          2018  \n",
              "2          2012  \n",
              "3          2018  \n",
              "4          2010  \n",
              "5          2012  \n",
              "6          2005  \n",
              "7          2018  \n",
              "8          2016  \n",
              "9          2018  "
            ],
            "text/html": [
              "\n",
              "  <div id=\"df-d79ab3e3-7ed4-4197-8d14-2c0f00aa3714\" class=\"colab-df-container\">\n",
              "    <div>\n",
              "<style scoped>\n",
              "    .dataframe tbody tr th:only-of-type {\n",
              "        vertical-align: middle;\n",
              "    }\n",
              "\n",
              "    .dataframe tbody tr th {\n",
              "        vertical-align: top;\n",
              "    }\n",
              "\n",
              "    .dataframe thead th {\n",
              "        text-align: right;\n",
              "    }\n",
              "</style>\n",
              "<table border=\"1\" class=\"dataframe\">\n",
              "  <thead>\n",
              "    <tr style=\"text-align: right;\">\n",
              "      <th></th>\n",
              "      <th>fuelType</th>\n",
              "      <th>rating</th>\n",
              "      <th>renterTripsTaken</th>\n",
              "      <th>reviewCount</th>\n",
              "      <th>location.city</th>\n",
              "      <th>location.country</th>\n",
              "      <th>location.latitude</th>\n",
              "      <th>location.longitude</th>\n",
              "      <th>location.state</th>\n",
              "      <th>owner.id</th>\n",
              "      <th>rate.daily</th>\n",
              "      <th>vehicle.make</th>\n",
              "      <th>vehicle.model</th>\n",
              "      <th>vehicle.type</th>\n",
              "      <th>vehicle.year</th>\n",
              "    </tr>\n",
              "  </thead>\n",
              "  <tbody>\n",
              "    <tr>\n",
              "      <th>0</th>\n",
              "      <td>ELECTRIC</td>\n",
              "      <td>5.00</td>\n",
              "      <td>13</td>\n",
              "      <td>12</td>\n",
              "      <td>Seattle</td>\n",
              "      <td>US</td>\n",
              "      <td>47.449107</td>\n",
              "      <td>-122.308841</td>\n",
              "      <td>WA</td>\n",
              "      <td>12847615</td>\n",
              "      <td>135</td>\n",
              "      <td>Tesla</td>\n",
              "      <td>Model X</td>\n",
              "      <td>suv</td>\n",
              "      <td>2019</td>\n",
              "    </tr>\n",
              "    <tr>\n",
              "      <th>1</th>\n",
              "      <td>ELECTRIC</td>\n",
              "      <td>5.00</td>\n",
              "      <td>2</td>\n",
              "      <td>1</td>\n",
              "      <td>Tijeras</td>\n",
              "      <td>US</td>\n",
              "      <td>35.111060</td>\n",
              "      <td>-106.276551</td>\n",
              "      <td>NM</td>\n",
              "      <td>15621242</td>\n",
              "      <td>190</td>\n",
              "      <td>Tesla</td>\n",
              "      <td>Model X</td>\n",
              "      <td>suv</td>\n",
              "      <td>2018</td>\n",
              "    </tr>\n",
              "    <tr>\n",
              "      <th>2</th>\n",
              "      <td>HYBRID</td>\n",
              "      <td>4.92</td>\n",
              "      <td>28</td>\n",
              "      <td>24</td>\n",
              "      <td>Albuquerque</td>\n",
              "      <td>US</td>\n",
              "      <td>35.127163</td>\n",
              "      <td>-106.566681</td>\n",
              "      <td>NM</td>\n",
              "      <td>10199256</td>\n",
              "      <td>35</td>\n",
              "      <td>Toyota</td>\n",
              "      <td>Prius</td>\n",
              "      <td>car</td>\n",
              "      <td>2012</td>\n",
              "    </tr>\n",
              "    <tr>\n",
              "      <th>3</th>\n",
              "      <td>GASOLINE</td>\n",
              "      <td>5.00</td>\n",
              "      <td>21</td>\n",
              "      <td>20</td>\n",
              "      <td>Albuquerque</td>\n",
              "      <td>US</td>\n",
              "      <td>35.149726</td>\n",
              "      <td>-106.711425</td>\n",
              "      <td>NM</td>\n",
              "      <td>9365496</td>\n",
              "      <td>75</td>\n",
              "      <td>Ford</td>\n",
              "      <td>Mustang</td>\n",
              "      <td>car</td>\n",
              "      <td>2018</td>\n",
              "    </tr>\n",
              "    <tr>\n",
              "      <th>4</th>\n",
              "      <td>GASOLINE</td>\n",
              "      <td>5.00</td>\n",
              "      <td>3</td>\n",
              "      <td>1</td>\n",
              "      <td>Albuquerque</td>\n",
              "      <td>US</td>\n",
              "      <td>35.208659</td>\n",
              "      <td>-106.601008</td>\n",
              "      <td>NM</td>\n",
              "      <td>3553565</td>\n",
              "      <td>47</td>\n",
              "      <td>Chrysler</td>\n",
              "      <td>Sebring</td>\n",
              "      <td>car</td>\n",
              "      <td>2010</td>\n",
              "    </tr>\n",
              "    <tr>\n",
              "      <th>5</th>\n",
              "      <td>GASOLINE</td>\n",
              "      <td>5.00</td>\n",
              "      <td>13</td>\n",
              "      <td>12</td>\n",
              "      <td>Albuquerque</td>\n",
              "      <td>US</td>\n",
              "      <td>35.068834</td>\n",
              "      <td>-106.576111</td>\n",
              "      <td>NM</td>\n",
              "      <td>7815747</td>\n",
              "      <td>58</td>\n",
              "      <td>Mercedes-Benz</td>\n",
              "      <td>GL-Class</td>\n",
              "      <td>suv</td>\n",
              "      <td>2012</td>\n",
              "    </tr>\n",
              "    <tr>\n",
              "      <th>6</th>\n",
              "      <td>GASOLINE</td>\n",
              "      <td>4.42</td>\n",
              "      <td>13</td>\n",
              "      <td>12</td>\n",
              "      <td>Albuquerque</td>\n",
              "      <td>US</td>\n",
              "      <td>35.045552</td>\n",
              "      <td>-106.633815</td>\n",
              "      <td>NM</td>\n",
              "      <td>3112016</td>\n",
              "      <td>42</td>\n",
              "      <td>GMC</td>\n",
              "      <td>Yukon XL</td>\n",
              "      <td>suv</td>\n",
              "      <td>2005</td>\n",
              "    </tr>\n",
              "    <tr>\n",
              "      <th>7</th>\n",
              "      <td>GASOLINE</td>\n",
              "      <td>4.90</td>\n",
              "      <td>12</td>\n",
              "      <td>10</td>\n",
              "      <td>Albuquerque</td>\n",
              "      <td>US</td>\n",
              "      <td>35.186542</td>\n",
              "      <td>-106.686481</td>\n",
              "      <td>NM</td>\n",
              "      <td>9536762</td>\n",
              "      <td>117</td>\n",
              "      <td>Ford</td>\n",
              "      <td>Expedition</td>\n",
              "      <td>suv</td>\n",
              "      <td>2018</td>\n",
              "    </tr>\n",
              "    <tr>\n",
              "      <th>8</th>\n",
              "      <td>GASOLINE</td>\n",
              "      <td>5.00</td>\n",
              "      <td>1</td>\n",
              "      <td>1</td>\n",
              "      <td>Albuquerque</td>\n",
              "      <td>US</td>\n",
              "      <td>35.061213</td>\n",
              "      <td>-106.629406</td>\n",
              "      <td>NM</td>\n",
              "      <td>14893743</td>\n",
              "      <td>102</td>\n",
              "      <td>Ford</td>\n",
              "      <td>Focus RS</td>\n",
              "      <td>car</td>\n",
              "      <td>2016</td>\n",
              "    </tr>\n",
              "    <tr>\n",
              "      <th>9</th>\n",
              "      <td>GASOLINE</td>\n",
              "      <td>4.76</td>\n",
              "      <td>22</td>\n",
              "      <td>17</td>\n",
              "      <td>Albuquerque</td>\n",
              "      <td>US</td>\n",
              "      <td>35.115363</td>\n",
              "      <td>-106.556911</td>\n",
              "      <td>NM</td>\n",
              "      <td>11389136</td>\n",
              "      <td>49</td>\n",
              "      <td>Ford</td>\n",
              "      <td>EcoSport</td>\n",
              "      <td>suv</td>\n",
              "      <td>2018</td>\n",
              "    </tr>\n",
              "  </tbody>\n",
              "</table>\n",
              "</div>\n",
              "    <div class=\"colab-df-buttons\">\n",
              "\n",
              "  <div class=\"colab-df-container\">\n",
              "    <button class=\"colab-df-convert\" onclick=\"convertToInteractive('df-d79ab3e3-7ed4-4197-8d14-2c0f00aa3714')\"\n",
              "            title=\"Convert this dataframe to an interactive table.\"\n",
              "            style=\"display:none;\">\n",
              "\n",
              "  <svg xmlns=\"http://www.w3.org/2000/svg\" height=\"24px\" viewBox=\"0 -960 960 960\">\n",
              "    <path d=\"M120-120v-720h720v720H120Zm60-500h600v-160H180v160Zm220 220h160v-160H400v160Zm0 220h160v-160H400v160ZM180-400h160v-160H180v160Zm440 0h160v-160H620v160ZM180-180h160v-160H180v160Zm440 0h160v-160H620v160Z\"/>\n",
              "  </svg>\n",
              "    </button>\n",
              "\n",
              "  <style>\n",
              "    .colab-df-container {\n",
              "      display:flex;\n",
              "      gap: 12px;\n",
              "    }\n",
              "\n",
              "    .colab-df-convert {\n",
              "      background-color: #E8F0FE;\n",
              "      border: none;\n",
              "      border-radius: 50%;\n",
              "      cursor: pointer;\n",
              "      display: none;\n",
              "      fill: #1967D2;\n",
              "      height: 32px;\n",
              "      padding: 0 0 0 0;\n",
              "      width: 32px;\n",
              "    }\n",
              "\n",
              "    .colab-df-convert:hover {\n",
              "      background-color: #E2EBFA;\n",
              "      box-shadow: 0px 1px 2px rgba(60, 64, 67, 0.3), 0px 1px 3px 1px rgba(60, 64, 67, 0.15);\n",
              "      fill: #174EA6;\n",
              "    }\n",
              "\n",
              "    .colab-df-buttons div {\n",
              "      margin-bottom: 4px;\n",
              "    }\n",
              "\n",
              "    [theme=dark] .colab-df-convert {\n",
              "      background-color: #3B4455;\n",
              "      fill: #D2E3FC;\n",
              "    }\n",
              "\n",
              "    [theme=dark] .colab-df-convert:hover {\n",
              "      background-color: #434B5C;\n",
              "      box-shadow: 0px 1px 3px 1px rgba(0, 0, 0, 0.15);\n",
              "      filter: drop-shadow(0px 1px 2px rgba(0, 0, 0, 0.3));\n",
              "      fill: #FFFFFF;\n",
              "    }\n",
              "  </style>\n",
              "\n",
              "    <script>\n",
              "      const buttonEl =\n",
              "        document.querySelector('#df-d79ab3e3-7ed4-4197-8d14-2c0f00aa3714 button.colab-df-convert');\n",
              "      buttonEl.style.display =\n",
              "        google.colab.kernel.accessAllowed ? 'block' : 'none';\n",
              "\n",
              "      async function convertToInteractive(key) {\n",
              "        const element = document.querySelector('#df-d79ab3e3-7ed4-4197-8d14-2c0f00aa3714');\n",
              "        const dataTable =\n",
              "          await google.colab.kernel.invokeFunction('convertToInteractive',\n",
              "                                                    [key], {});\n",
              "        if (!dataTable) return;\n",
              "\n",
              "        const docLinkHtml = 'Like what you see? Visit the ' +\n",
              "          '<a target=\"_blank\" href=https://colab.research.google.com/notebooks/data_table.ipynb>data table notebook</a>'\n",
              "          + ' to learn more about interactive tables.';\n",
              "        element.innerHTML = '';\n",
              "        dataTable['output_type'] = 'display_data';\n",
              "        await google.colab.output.renderOutput(dataTable, element);\n",
              "        const docLink = document.createElement('div');\n",
              "        docLink.innerHTML = docLinkHtml;\n",
              "        element.appendChild(docLink);\n",
              "      }\n",
              "    </script>\n",
              "  </div>\n",
              "\n",
              "\n",
              "<div id=\"df-ef75b129-1ff8-4cf7-873d-d346caca0327\">\n",
              "  <button class=\"colab-df-quickchart\" onclick=\"quickchart('df-ef75b129-1ff8-4cf7-873d-d346caca0327')\"\n",
              "            title=\"Suggest charts\"\n",
              "            style=\"display:none;\">\n",
              "\n",
              "<svg xmlns=\"http://www.w3.org/2000/svg\" height=\"24px\"viewBox=\"0 0 24 24\"\n",
              "     width=\"24px\">\n",
              "    <g>\n",
              "        <path d=\"M19 3H5c-1.1 0-2 .9-2 2v14c0 1.1.9 2 2 2h14c1.1 0 2-.9 2-2V5c0-1.1-.9-2-2-2zM9 17H7v-7h2v7zm4 0h-2V7h2v10zm4 0h-2v-4h2v4z\"/>\n",
              "    </g>\n",
              "</svg>\n",
              "  </button>\n",
              "\n",
              "<style>\n",
              "  .colab-df-quickchart {\n",
              "      --bg-color: #E8F0FE;\n",
              "      --fill-color: #1967D2;\n",
              "      --hover-bg-color: #E2EBFA;\n",
              "      --hover-fill-color: #174EA6;\n",
              "      --disabled-fill-color: #AAA;\n",
              "      --disabled-bg-color: #DDD;\n",
              "  }\n",
              "\n",
              "  [theme=dark] .colab-df-quickchart {\n",
              "      --bg-color: #3B4455;\n",
              "      --fill-color: #D2E3FC;\n",
              "      --hover-bg-color: #434B5C;\n",
              "      --hover-fill-color: #FFFFFF;\n",
              "      --disabled-bg-color: #3B4455;\n",
              "      --disabled-fill-color: #666;\n",
              "  }\n",
              "\n",
              "  .colab-df-quickchart {\n",
              "    background-color: var(--bg-color);\n",
              "    border: none;\n",
              "    border-radius: 50%;\n",
              "    cursor: pointer;\n",
              "    display: none;\n",
              "    fill: var(--fill-color);\n",
              "    height: 32px;\n",
              "    padding: 0;\n",
              "    width: 32px;\n",
              "  }\n",
              "\n",
              "  .colab-df-quickchart:hover {\n",
              "    background-color: var(--hover-bg-color);\n",
              "    box-shadow: 0 1px 2px rgba(60, 64, 67, 0.3), 0 1px 3px 1px rgba(60, 64, 67, 0.15);\n",
              "    fill: var(--button-hover-fill-color);\n",
              "  }\n",
              "\n",
              "  .colab-df-quickchart-complete:disabled,\n",
              "  .colab-df-quickchart-complete:disabled:hover {\n",
              "    background-color: var(--disabled-bg-color);\n",
              "    fill: var(--disabled-fill-color);\n",
              "    box-shadow: none;\n",
              "  }\n",
              "\n",
              "  .colab-df-spinner {\n",
              "    border: 2px solid var(--fill-color);\n",
              "    border-color: transparent;\n",
              "    border-bottom-color: var(--fill-color);\n",
              "    animation:\n",
              "      spin 1s steps(1) infinite;\n",
              "  }\n",
              "\n",
              "  @keyframes spin {\n",
              "    0% {\n",
              "      border-color: transparent;\n",
              "      border-bottom-color: var(--fill-color);\n",
              "      border-left-color: var(--fill-color);\n",
              "    }\n",
              "    20% {\n",
              "      border-color: transparent;\n",
              "      border-left-color: var(--fill-color);\n",
              "      border-top-color: var(--fill-color);\n",
              "    }\n",
              "    30% {\n",
              "      border-color: transparent;\n",
              "      border-left-color: var(--fill-color);\n",
              "      border-top-color: var(--fill-color);\n",
              "      border-right-color: var(--fill-color);\n",
              "    }\n",
              "    40% {\n",
              "      border-color: transparent;\n",
              "      border-right-color: var(--fill-color);\n",
              "      border-top-color: var(--fill-color);\n",
              "    }\n",
              "    60% {\n",
              "      border-color: transparent;\n",
              "      border-right-color: var(--fill-color);\n",
              "    }\n",
              "    80% {\n",
              "      border-color: transparent;\n",
              "      border-right-color: var(--fill-color);\n",
              "      border-bottom-color: var(--fill-color);\n",
              "    }\n",
              "    90% {\n",
              "      border-color: transparent;\n",
              "      border-bottom-color: var(--fill-color);\n",
              "    }\n",
              "  }\n",
              "</style>\n",
              "\n",
              "  <script>\n",
              "    async function quickchart(key) {\n",
              "      const quickchartButtonEl =\n",
              "        document.querySelector('#' + key + ' button');\n",
              "      quickchartButtonEl.disabled = true;  // To prevent multiple clicks.\n",
              "      quickchartButtonEl.classList.add('colab-df-spinner');\n",
              "      try {\n",
              "        const charts = await google.colab.kernel.invokeFunction(\n",
              "            'suggestCharts', [key], {});\n",
              "      } catch (error) {\n",
              "        console.error('Error during call to suggestCharts:', error);\n",
              "      }\n",
              "      quickchartButtonEl.classList.remove('colab-df-spinner');\n",
              "      quickchartButtonEl.classList.add('colab-df-quickchart-complete');\n",
              "    }\n",
              "    (() => {\n",
              "      let quickchartButtonEl =\n",
              "        document.querySelector('#df-ef75b129-1ff8-4cf7-873d-d346caca0327 button');\n",
              "      quickchartButtonEl.style.display =\n",
              "        google.colab.kernel.accessAllowed ? 'block' : 'none';\n",
              "    })();\n",
              "  </script>\n",
              "</div>\n",
              "\n",
              "    </div>\n",
              "  </div>\n"
            ],
            "application/vnd.google.colaboratory.intrinsic+json": {
              "type": "dataframe",
              "variable_name": "df",
              "summary": "{\n  \"name\": \"df\",\n  \"rows\": 5851,\n  \"fields\": [\n    {\n      \"column\": \"fuelType\",\n      \"properties\": {\n        \"dtype\": \"category\",\n        \"num_unique_values\": 4,\n        \"samples\": [\n          \"HYBRID\",\n          \"DIESEL\",\n          \"ELECTRIC\"\n        ],\n        \"semantic_type\": \"\",\n        \"description\": \"\"\n      }\n    },\n    {\n      \"column\": \"rating\",\n      \"properties\": {\n        \"dtype\": \"number\",\n        \"std\": 0.18242525703752777,\n        \"min\": 1.0,\n        \"max\": 5.0,\n        \"num_unique_values\": 80,\n        \"samples\": [\n          4.51,\n          5.0,\n          4.99\n        ],\n        \"semantic_type\": \"\",\n        \"description\": \"\"\n      }\n    },\n    {\n      \"column\": \"renterTripsTaken\",\n      \"properties\": {\n        \"dtype\": \"number\",\n        \"std\": 41,\n        \"min\": 0,\n        \"max\": 395,\n        \"num_unique_values\": 238,\n        \"samples\": [\n          172,\n          4,\n          162\n        ],\n        \"semantic_type\": \"\",\n        \"description\": \"\"\n      }\n    },\n    {\n      \"column\": \"reviewCount\",\n      \"properties\": {\n        \"dtype\": \"number\",\n        \"std\": 35,\n        \"min\": 0,\n        \"max\": 321,\n        \"num_unique_values\": 203,\n        \"samples\": [\n          18,\n          56,\n          108\n        ],\n        \"semantic_type\": \"\",\n        \"description\": \"\"\n      }\n    },\n    {\n      \"column\": \"location.city\",\n      \"properties\": {\n        \"dtype\": \"category\",\n        \"num_unique_values\": 971,\n        \"samples\": [\n          \"North Royalton\",\n          \"Los Gatos\",\n          \"Cromwell\"\n        ],\n        \"semantic_type\": \"\",\n        \"description\": \"\"\n      }\n    },\n    {\n      \"column\": \"location.country\",\n      \"properties\": {\n        \"dtype\": \"category\",\n        \"num_unique_values\": 1,\n        \"samples\": [\n          \"US\"\n        ],\n        \"semantic_type\": \"\",\n        \"description\": \"\"\n      }\n    },\n    {\n      \"column\": \"location.latitude\",\n      \"properties\": {\n        \"dtype\": \"number\",\n        \"std\": 6.431408483050628,\n        \"min\": 21.272565,\n        \"max\": 64.89361,\n        \"num_unique_values\": 5839,\n        \"samples\": [\n          47.147336\n        ],\n        \"semantic_type\": \"\",\n        \"description\": \"\"\n      }\n    },\n    {\n      \"column\": \"location.longitude\",\n      \"properties\": {\n        \"dtype\": \"number\",\n        \"std\": 20.391476326143042,\n        \"min\": -158.165693,\n        \"max\": -68.823637,\n        \"num_unique_values\": 5834,\n        \"samples\": [\n          -87.753159\n        ],\n        \"semantic_type\": \"\",\n        \"description\": \"\"\n      }\n    },\n    {\n      \"column\": \"location.state\",\n      \"properties\": {\n        \"dtype\": \"category\",\n        \"num_unique_values\": 46,\n        \"samples\": [\n          \"PA\"\n        ],\n        \"semantic_type\": \"\",\n        \"description\": \"\"\n      }\n    },\n    {\n      \"column\": \"owner.id\",\n      \"properties\": {\n        \"dtype\": \"number\",\n        \"std\": 4646021,\n        \"min\": 5105,\n        \"max\": 15810882,\n        \"num_unique_values\": 3093,\n        \"samples\": [\n          254719\n        ],\n        \"semantic_type\": \"\",\n        \"description\": \"\"\n      }\n    },\n    {\n      \"column\": \"rate.daily\",\n      \"properties\": {\n        \"dtype\": \"number\",\n        \"std\": 96,\n        \"min\": 20,\n        \"max\": 1500,\n        \"num_unique_values\": 294,\n        \"samples\": [\n          98\n        ],\n        \"semantic_type\": \"\",\n        \"description\": \"\"\n      }\n    },\n    {\n      \"column\": \"vehicle.make\",\n      \"properties\": {\n        \"dtype\": \"category\",\n        \"num_unique_values\": 54,\n        \"samples\": [\n          \"BMW\"\n        ],\n        \"semantic_type\": \"\",\n        \"description\": \"\"\n      }\n    },\n    {\n      \"column\": \"vehicle.model\",\n      \"properties\": {\n        \"dtype\": \"category\",\n        \"num_unique_values\": 526,\n        \"samples\": [\n          \"6\"\n        ],\n        \"semantic_type\": \"\",\n        \"description\": \"\"\n      }\n    },\n    {\n      \"column\": \"vehicle.type\",\n      \"properties\": {\n        \"dtype\": \"category\",\n        \"num_unique_values\": 5,\n        \"samples\": [\n          \"car\"\n        ],\n        \"semantic_type\": \"\",\n        \"description\": \"\"\n      }\n    },\n    {\n      \"column\": \"vehicle.year\",\n      \"properties\": {\n        \"dtype\": \"number\",\n        \"std\": 4,\n        \"min\": 1955,\n        \"max\": 2020,\n        \"num_unique_values\": 34,\n        \"samples\": [\n          2006\n        ],\n        \"semantic_type\": \"\",\n        \"description\": \"\"\n      }\n    }\n  ]\n}"
            }
          },
          "metadata": {},
          "execution_count": 30
        }
      ]
    },
    {
      "cell_type": "code",
      "source": [
        "df.columns"
      ],
      "metadata": {
        "colab": {
          "base_uri": "https://localhost:8080/"
        },
        "id": "n838Iw3vxQPP",
        "outputId": "61b43be4-5a39-462c-9c98-73718fb0aa6a"
      },
      "execution_count": 31,
      "outputs": [
        {
          "output_type": "execute_result",
          "data": {
            "text/plain": [
              "Index(['fuelType', 'rating', 'renterTripsTaken', 'reviewCount',\n",
              "       'location.city', 'location.country', 'location.latitude',\n",
              "       'location.longitude', 'location.state', 'owner.id', 'rate.daily',\n",
              "       'vehicle.make', 'vehicle.model', 'vehicle.type', 'vehicle.year'],\n",
              "      dtype='object')"
            ]
          },
          "metadata": {},
          "execution_count": 31
        }
      ]
    },
    {
      "cell_type": "code",
      "source": [
        "#Renomear colunas\n",
        "\n",
        "df = df.rename(columns = {\n",
        "    'fuelType':'Tipo_Combustivel',\n",
        "    'rating' :'Avaliacao',\n",
        "    'renterTripsTaken': 'Aluguel_Viagens_realizadas',\n",
        "    'reviewCount': 'Contagem_revisao',\n",
        "    'location.city':'Cidade',\n",
        "    'location.country': 'Pais',\n",
        "    'location.latitude': 'Latitude',\n",
        "    'location.longitude':'Longitude',\n",
        "    'location.state':'Estado',\n",
        "    'owner.id': 'ID_Proprietario',\n",
        "    'owner.name': 'Nome_Proprietario',\n",
        "    'rate.daily': 'Taxa_diaria',\n",
        "    'vehicle.make': 'Marca_veiculo',\n",
        "    'vehicle.model': 'Modelo_veiculo',\n",
        "    'vehicle.year': 'Ano_veiculo',\n",
        "    'vehicle.type': 'Tipo_veículo'\n",
        "})\n",
        "\n",
        "df.columns"
      ],
      "metadata": {
        "colab": {
          "base_uri": "https://localhost:8080/"
        },
        "id": "jtnjpB-uxHFg",
        "outputId": "7667cb15-9416-4c38-fed3-7e341cf75a33"
      },
      "execution_count": 32,
      "outputs": [
        {
          "output_type": "execute_result",
          "data": {
            "text/plain": [
              "Index(['Tipo_Combustivel', 'Avaliacao', 'Aluguel_Viagens_realizadas',\n",
              "       'Contagem_revisao', 'Cidade', 'Pais', 'Latitude', 'Longitude', 'Estado',\n",
              "       'ID_Proprietario', 'Taxa_diaria', 'Marca_veiculo', 'Modelo_veiculo',\n",
              "       'Tipo_veículo', 'Ano_veiculo'],\n",
              "      dtype='object')"
            ]
          },
          "metadata": {},
          "execution_count": 32
        }
      ]
    },
    {
      "cell_type": "code",
      "source": [
        "df['Tipo_Combustivel'].unique()"
      ],
      "metadata": {
        "colab": {
          "base_uri": "https://localhost:8080/"
        },
        "id": "XNYFF_yszDFn",
        "outputId": "9b822134-38a3-49d0-e314-873dc6fa3a2e"
      },
      "execution_count": 33,
      "outputs": [
        {
          "output_type": "execute_result",
          "data": {
            "text/plain": [
              "array(['ELECTRIC', 'HYBRID', 'GASOLINE', nan, 'DIESEL'], dtype=object)"
            ]
          },
          "metadata": {},
          "execution_count": 33
        }
      ]
    },
    {
      "cell_type": "code",
      "source": [
        "#Renomear\n",
        "df['Tipo_Combustivel'] = df['Tipo_Combustivel'].str.replace('ELECTRIC', 'Eletrico').replace('HYBRID', 'Hibrido').replace('DIESEL', 'Diesel').replace('GASOLINE', 'Gasolina').fillna('Não Informado')"
      ],
      "metadata": {
        "id": "2puPeVaqy5AJ"
      },
      "execution_count": 34,
      "outputs": []
    },
    {
      "cell_type": "code",
      "source": [
        "df['Tipo_Combustivel'].unique()"
      ],
      "metadata": {
        "colab": {
          "base_uri": "https://localhost:8080/"
        },
        "id": "kOJK7aMvzj0h",
        "outputId": "0ab48e50-a6df-43dd-c911-50ebf46a4959"
      },
      "execution_count": 35,
      "outputs": [
        {
          "output_type": "execute_result",
          "data": {
            "text/plain": [
              "array(['Eletrico', 'Hibrido', 'Gasolina', 'Não Informado', 'Diesel'],\n",
              "      dtype=object)"
            ]
          },
          "metadata": {},
          "execution_count": 35
        }
      ]
    },
    {
      "cell_type": "code",
      "source": [
        "df['Pais'].unique()"
      ],
      "metadata": {
        "colab": {
          "base_uri": "https://localhost:8080/"
        },
        "id": "f6liRcBKzmmx",
        "outputId": "7fd59bf8-044f-4568-ed64-12897de59d9b"
      },
      "execution_count": 36,
      "outputs": [
        {
          "output_type": "execute_result",
          "data": {
            "text/plain": [
              "array(['US'], dtype=object)"
            ]
          },
          "metadata": {},
          "execution_count": 36
        }
      ]
    },
    {
      "cell_type": "code",
      "source": [
        "df['Pais'] = df['Pais'].str.replace('US', 'Estados Unidos')"
      ],
      "metadata": {
        "id": "xKiD-VeOzxpZ"
      },
      "execution_count": 37,
      "outputs": []
    },
    {
      "cell_type": "code",
      "source": [
        "df['Pais'].unique()"
      ],
      "metadata": {
        "colab": {
          "base_uri": "https://localhost:8080/"
        },
        "id": "sOf3lz-Yz4fh",
        "outputId": "bf6b7282-3f57-4c17-fe58-9d5f8216cf20"
      },
      "execution_count": 38,
      "outputs": [
        {
          "output_type": "execute_result",
          "data": {
            "text/plain": [
              "array(['Estados Unidos'], dtype=object)"
            ]
          },
          "metadata": {},
          "execution_count": 38
        }
      ]
    },
    {
      "cell_type": "code",
      "source": [
        "df['Tipo_veículo'].unique()"
      ],
      "metadata": {
        "colab": {
          "base_uri": "https://localhost:8080/"
        },
        "id": "aEg5WxvOz9_5",
        "outputId": "c3c1b86f-8fd0-4df8-bbae-1240768a6011"
      },
      "execution_count": 39,
      "outputs": [
        {
          "output_type": "execute_result",
          "data": {
            "text/plain": [
              "array(['suv', 'car', 'truck', 'minivan', 'van'], dtype=object)"
            ]
          },
          "metadata": {},
          "execution_count": 39
        }
      ]
    },
    {
      "cell_type": "code",
      "source": [
        "df['Tipo_veículo'] = df['Tipo_veículo'].str.replace('suv', 'SUV').replace('car', 'Carro').replace('truck', 'Caminhão').replace('minivan', 'Mini Van').replace('van', 'Van')"
      ],
      "metadata": {
        "id": "Vn5uQyQq0A_Q"
      },
      "execution_count": 40,
      "outputs": []
    },
    {
      "cell_type": "code",
      "source": [
        "df['Tipo_veículo'].unique()"
      ],
      "metadata": {
        "colab": {
          "base_uri": "https://localhost:8080/"
        },
        "id": "Jht2sF0k0fFl",
        "outputId": "e01fd138-5924-493d-f5b1-d63ec0da9815"
      },
      "execution_count": 41,
      "outputs": [
        {
          "output_type": "execute_result",
          "data": {
            "text/plain": [
              "array(['SUV', 'Carro', 'Caminhão', 'Mini Van', 'Van'], dtype=object)"
            ]
          },
          "metadata": {},
          "execution_count": 41
        }
      ]
    },
    {
      "cell_type": "code",
      "source": [
        "#Campos vazios\n",
        "df.isna().sum()"
      ],
      "metadata": {
        "colab": {
          "base_uri": "https://localhost:8080/"
        },
        "id": "mEouW42Y0u5h",
        "outputId": "e74bb2f8-abc6-4011-bdae-bbc0e9eddb22"
      },
      "execution_count": 42,
      "outputs": [
        {
          "output_type": "execute_result",
          "data": {
            "text/plain": [
              "Tipo_Combustivel                0\n",
              "Avaliacao                     501\n",
              "Aluguel_Viagens_realizadas      0\n",
              "Contagem_revisao                0\n",
              "Cidade                          0\n",
              "Pais                            0\n",
              "Latitude                        0\n",
              "Longitude                       0\n",
              "Estado                          0\n",
              "ID_Proprietario                 0\n",
              "Taxa_diaria                     0\n",
              "Marca_veiculo                   0\n",
              "Modelo_veiculo                  0\n",
              "Tipo_veículo                    0\n",
              "Ano_veiculo                     0\n",
              "dtype: int64"
            ]
          },
          "metadata": {},
          "execution_count": 42
        }
      ]
    },
    {
      "cell_type": "code",
      "source": [
        "df['Avaliacao'].unique()"
      ],
      "metadata": {
        "colab": {
          "base_uri": "https://localhost:8080/"
        },
        "id": "7dFwu-PN0yeB",
        "outputId": "5971f140-334f-478e-f6eb-3579ae83aed4"
      },
      "execution_count": 43,
      "outputs": [
        {
          "output_type": "execute_result",
          "data": {
            "text/plain": [
              "array([5.  , 4.92, 4.42, 4.9 , 4.76, 4.95, 4.7 , 4.88, 4.5 ,  nan, 4.67,\n",
              "       4.72, 4.85, 4.82, 4.8 , 4.58, 4.83, 4.94, 4.93, 4.89, 4.87, 4.96,\n",
              "       4.97, 4.99, 4.84, 4.98, 4.86, 4.91, 4.73, 4.74, 4.77, 4.51, 4.75,\n",
              "       4.63, 4.78, 4.81, 4.79, 4.69, 3.86, 4.66, 4.48, 4.6 , 4.71, 4.64,\n",
              "       4.65, 4.44, 4.57, 4.38, 4.29, 4.56, 4.2 , 4.33, 4.  , 4.17, 4.37,\n",
              "       4.41, 4.55, 3.  , 4.68, 4.61, 4.53, 4.62, 4.59, 2.  , 4.08, 3.5 ,\n",
              "       4.43, 4.54, 3.67, 1.5 , 1.  , 4.25, 4.4 , 4.52, 3.56, 3.25, 4.46,\n",
              "       4.36, 4.39, 4.47, 4.18])"
            ]
          },
          "metadata": {},
          "execution_count": 43
        }
      ]
    },
    {
      "cell_type": "code",
      "source": [
        "df['Avaliacao'].describe()"
      ],
      "metadata": {
        "colab": {
          "base_uri": "https://localhost:8080/"
        },
        "id": "woDSx1Mm1KgR",
        "outputId": "0e95ef85-ed39-4faf-d752-72c5ce59e225"
      },
      "execution_count": 44,
      "outputs": [
        {
          "output_type": "execute_result",
          "data": {
            "text/plain": [
              "count    5350.000000\n",
              "mean        4.920325\n",
              "std         0.182425\n",
              "min         1.000000\n",
              "25%         4.900000\n",
              "50%         5.000000\n",
              "75%         5.000000\n",
              "max         5.000000\n",
              "Name: Avaliacao, dtype: float64"
            ]
          },
          "metadata": {},
          "execution_count": 44
        }
      ]
    },
    {
      "cell_type": "code",
      "source": [
        "df['Avaliacao'] = df['Avaliacao'].astype(float)"
      ],
      "metadata": {
        "id": "SuumJtNUjxDu"
      },
      "execution_count": 45,
      "outputs": []
    },
    {
      "cell_type": "code",
      "source": [
        "#Substituir NAN pela media\n",
        "df['Avaliacao'] = df['Avaliacao'].fillna(df['Avaliacao'].mean())"
      ],
      "metadata": {
        "id": "iDzoNODI1QUL"
      },
      "execution_count": 51,
      "outputs": []
    },
    {
      "cell_type": "code",
      "source": [
        "df['Avaliacao'].unique()"
      ],
      "metadata": {
        "colab": {
          "base_uri": "https://localhost:8080/"
        },
        "id": "j2bqcVWIj8pN",
        "outputId": "c130072e-f82a-4983-ad9d-d2a54f466179"
      },
      "execution_count": 52,
      "outputs": [
        {
          "output_type": "execute_result",
          "data": {
            "text/plain": [
              "array([5.        , 4.92      , 4.42      , 4.9       , 4.76      ,\n",
              "       4.95      , 4.7       , 4.88      , 4.5       , 4.92032523,\n",
              "       4.67      , 4.72      , 4.85      , 4.82      , 4.8       ,\n",
              "       4.58      , 4.83      , 4.94      , 4.93      , 4.89      ,\n",
              "       4.87      , 4.96      , 4.97      , 4.99      , 4.84      ,\n",
              "       4.98      , 4.86      , 4.91      , 4.73      , 4.74      ,\n",
              "       4.77      , 4.51      , 4.75      , 4.63      , 4.78      ,\n",
              "       4.81      , 4.79      , 4.69      , 3.86      , 4.66      ,\n",
              "       4.48      , 4.6       , 4.71      , 4.64      , 4.65      ,\n",
              "       4.44      , 4.57      , 4.38      , 4.29      , 4.56      ,\n",
              "       4.2       , 4.33      , 4.        , 4.17      , 4.37      ,\n",
              "       4.41      , 4.55      , 3.        , 4.68      , 4.61      ,\n",
              "       4.53      , 4.62      , 4.59      , 2.        , 4.08      ,\n",
              "       3.5       , 4.43      , 4.54      , 3.67      , 1.5       ,\n",
              "       1.        , 4.25      , 4.4       , 4.52      , 3.56      ,\n",
              "       3.25      , 4.46      , 4.36      , 4.39      , 4.47      ,\n",
              "       4.18      ])"
            ]
          },
          "metadata": {},
          "execution_count": 52
        }
      ]
    },
    {
      "cell_type": "code",
      "source": [
        "#Campos vazios\n",
        "df.isna().sum()"
      ],
      "metadata": {
        "colab": {
          "base_uri": "https://localhost:8080/"
        },
        "id": "OVOz5QUC1apq",
        "outputId": "afaf8e4e-5a12-437c-c145-e81aa8b894a0"
      },
      "execution_count": 53,
      "outputs": [
        {
          "output_type": "execute_result",
          "data": {
            "text/plain": [
              "Tipo_Combustivel              0\n",
              "Avaliacao                     0\n",
              "Aluguel_Viagens_realizadas    0\n",
              "Contagem_revisao              0\n",
              "Cidade                        0\n",
              "Pais                          0\n",
              "Latitude                      0\n",
              "Longitude                     0\n",
              "Estado                        0\n",
              "ID_Proprietario               0\n",
              "Taxa_diaria                   0\n",
              "Marca_veiculo                 0\n",
              "Modelo_veiculo                0\n",
              "Tipo_veículo                  0\n",
              "Ano_veiculo                   0\n",
              "dtype: int64"
            ]
          },
          "metadata": {},
          "execution_count": 53
        }
      ]
    },
    {
      "cell_type": "code",
      "source": [
        "df['Modelo_veiculo'].unique()"
      ],
      "metadata": {
        "colab": {
          "base_uri": "https://localhost:8080/"
        },
        "id": "nw6M8dThmuPK",
        "outputId": "617eedfe-435d-42b0-d8de-ebc76ad72ed3"
      },
      "execution_count": 58,
      "outputs": [
        {
          "output_type": "execute_result",
          "data": {
            "text/plain": [
              "array(['Model X', 'Prius', 'Mustang', 'Sebring', 'GL-Class', 'Yukon XL',\n",
              "       'Expedition', 'Focus RS', 'EcoSport', 'F-150', 'Tiguan',\n",
              "       'Avalon Hybrid', '3-Sep', 'CV Tradesman', 'Cherokee', 'Cayman',\n",
              "       'Wrangler JK', 'Explorer', 'Rogue', 'Model S', 'Charger', 'Jetta',\n",
              "       'Sonata', 'Impala', 'Accent', 'Focus', 'Sequoia', 'GLC-Class',\n",
              "       'Fiesta', 'Journey', 'ES 300h', 'ATS', 'IS 350', 'fortwo',\n",
              "       'Range Rover', 'Model 3', '718 Boxster', 'S-Class', '7 Series',\n",
              "       'C-Class', '4 Series', 'Panamera', 'GLA-Class', 'MDX',\n",
              "       'Corvette Stingray', 'A8', 'Altima', 'A7', 'RS 7', 'Grand Caravan',\n",
              "       'XJ', 'Corvette', 'Camaro', 'Range Rover Sport', 'Quattroporte',\n",
              "       'Q50', 'Boxster', 'Cayenne', 'EX35', 'E-Class', 'CX-5', 'Z4',\n",
              "       'Range Rover Evoque', 'X4', 'QX60', '6 Series Gran Coupe', 'M4',\n",
              "       'Ghibli', '5 Series', 'i8', 'AMG GT', 'Arteon', 'X6', 'SLK-Class',\n",
              "       'Range Rover Velar', 'Continental GT', '718 Cayman', 'F-TYPE',\n",
              "       'TTS', 'Yukon', 'Suburban', 'Corolla', 'Mirage', 'IS 200t',\n",
              "       'Versa', 'Challenger', 'Q7', 'Rio', 'New Beetle', 'Silverado 1500',\n",
              "       'Optima', 'Macan', 'Sorento', 'Wrangler', 'IS', 'Versa Note',\n",
              "       'CLS-Class', 'Soul', 'Passat', 'Elantra', 'Grand Cherokee',\n",
              "       'Cooper', 'X5', 'Compass', 'Slingshot', 'Cruze',\n",
              "       'Wrangler Unlimited', '300', 'Levante', 'Genesis', 'Sentra',\n",
              "       'Camry', '3 Series', 'RAV4', 'Tahoe', 'MX-5 Miata', 'HS 250h',\n",
              "       'A4', 'Sienna', 'Patriot', 'CLA-Class', 'Escape', 'IS 250',\n",
              "       '4 Series Gran Coupe', 'Yaris iA', 'LaCrosse', 'TSX', 'Prius v',\n",
              "       '500', 'Accord', 'CT 200h', 'X1', 'Elantra GT', 'Prius c',\n",
              "       'Giulia', 'Sierra 1500', 'Yaris', 'Trax', 'SL-Class', 'S5',\n",
              "       'Atlas Cross Sport', '4Runner', 'Model Y', 'ES 350', 'Navigator',\n",
              "       'Equinox', 'Accord Sedan', 'Ridgeline', 'Highlander', 'Metris',\n",
              "       'A6', 'GS 350', 'Eclipse Cross', 'E-Tron', 'Pilot', 'Odyssey',\n",
              "       'Santa Fe', 'Supra', 'CTS Coupe', 'Tacoma', 'Acadia', 'A5',\n",
              "       'NX 200t', 'Impreza', 'Civic Sedan', 'Convertible', 'Mazda6',\n",
              "       'Hardtop 2 Door', 'RX 350', 'HR-V', 'Civic', 'Frontier', 'S40',\n",
              "       'Optima Hybrid', 'ES 330', 'Fit', 'Niro', 'Transit Wagon',\n",
              "       'mustang', 'Colorado', 'Shelby AC Cobra', 'Silver Shadow',\n",
              "       'Tundra', 'XE', 'Gallardo', 'CC', 'Outlander', 'CX-9', 'Fusion',\n",
              "       'C-Max Hybrid', 'I8', 'XC60', '200', 'Sonic', 'Solstice', 'Tucson',\n",
              "       'Regal Sportback', '1500', 'M3', 'Mazda3', 'GX 460', '2 Series',\n",
              "       'Quest', 'Forte', 'Express', 'Golf GTI', 'CT6', 'Q5', 'Maxima',\n",
              "       'i3', 'MX-5 Miata RF', 'IS 250 C', 'Spark', '3', 'S60', 'Stelvio',\n",
              "       'Bolt EV', 'Sprinter', 'Malibu', 'Ranger', 'Golf', 'Touareg',\n",
              "       'X5 M', '3 Series Gran Turismo', 'CR-V', 'Ioniq Plug-In Hybrid',\n",
              "       'Camry Solara', 'G37', 'G Sedan', 'G-Class', 'Fusion Hybrid',\n",
              "       '6 Series', 'Enclave', 'Camry Hybrid', '500L', 'A3', 'Armada',\n",
              "       'allroad', 'Continental', 'XTS', 'Gladiator', '124 Spider',\n",
              "       'V12 Vantage S', 'Atlas', 'Escalade', 'Outback', 'C-Max', 'LX 570',\n",
              "       'GLE-Class', 'Silverado 2500HD', 'S4', 'RX 450h', 'Crosstrek',\n",
              "       'Murano', 'Edge', 'Avenger', 'G6', '3500', 'LR4', 'Cruze Limited',\n",
              "       '911', '86', 'ATS Coupe', 'TLX', 'XF', 'RDX', 'LC 500', 'TL',\n",
              "       'TrailBlazer', '124 Convertible 2000', 'Flex', 'Renegade',\n",
              "       'Blazer', 'Q60 Coupe', 'FJ Cruiser', 'M6', 'Pacifica', 'GLK-Class',\n",
              "       'NX', 'Fusion Energi', 'Mariner', 'ILX', 'Volt', 'S6',\n",
              "       'Explorer Sport Trac', 'Legacy', 'Santa Fe Sport', 'Pathfinder',\n",
              "       'M-Class', 'Forester', 'Xterra', 'Terrain', 'X3', 'Escalade ESV',\n",
              "       'Venza', 'Outlander Sport', 'Sedona', 'Insight', 'Mirage G4',\n",
              "       'QX80', 'Q60', 'Town and Country', 'QX', 'Durango', 'Caliber',\n",
              "       'Aveo', 'Expedition MAX', 'Ram 1500', 'Traverse', 'Voyager', 'ION',\n",
              "       '6', 'Taurus', 'Flying Spur', '4-Series', 'Avalon', 'F-PACE', '4C',\n",
              "       'GLS-Class', '7-Series', 'Discovery', '570S',\n",
              "       'Continental GT Speed', 'R8', 'FR-S', 'GT-R', 'GX 470',\n",
              "       'Grand Cherokee SRT', 'S90', 'CTS', 'M-Series', 'Stinger', 'Q3',\n",
              "       'H2', '5-Series', 'Discovery Sport', 'MKX', 'F-Type', 'C-HR',\n",
              "       'XT4', 'Corolla Hatchback', 'California', 'Huracan', 'XC90',\n",
              "       'MAZDA2', 'Touareg 2', 'Sierra 3500HD', 'Impala Limited', 'HHR',\n",
              "       'XV Crosstrek', 'Express Cargo', 'Cooper Countryman',\n",
              "       'Tahoe Hybrid', 'XC40', '3-Series', 'MAZDA5', 'V8 Vantage', 'LX',\n",
              "       'tC', '500X', 'Verano', 'xB', 'Continental Supersports',\n",
              "       'Continental GTC', 'Eos', 'S2000', '370Z', '380sl', 'TT RS',\n",
              "       'QX50', 'GranTurismo', 'Ghost', 'Ascent', 'RX 350L',\n",
              "       'Ram 1500 Classic', 'Evora 400', 'GX', 'CL-Class', 'F430', 'Sky',\n",
              "       'Dart', 'Cadenza', 'Beetle', 'NX 300', 'MKS', 'XT5', 'Matrix',\n",
              "       '488 Gtb', 'Exige', 'M6 Gran Coupe', '2-Series', 'GLE-Class Coupe',\n",
              "       'RX', 'V60', 'Passport', '1 Series', 'JX', 'STS', 'Telluride',\n",
              "       'Savana', 'e-Golf', 'Evora', 'LS 460', 'SLC-Class', 'Rogue Sport',\n",
              "       'NV200', 'Kona', 'F-450 Super Duty', 'Azera', 'Elantra Touring',\n",
              "       'iM', '2', 'G35', 'Leaf', 'Clubman', 'Vibe', 'Veloster', 'MKZ',\n",
              "       'TT', 'xD', 'RC 350', 'F-250 Super Duty', 'Hardtop 2dr',\n",
              "       'Highlander Hybrid', 'WRX', 'SQ5', 'A8 L', 'Crosstour',\n",
              "       'Genesis G70', 'Lancer', 'Commander', 'RAV4 Hybrid', 'Prius Prime',\n",
              "       'Ioniq Hybrid', '488 Spider', 'Urus', '348 Spider', '488GTB', 'M5',\n",
              "       'DB9', 'Q8', 'S80', 'Sportage', 'Canyon', 'Equus', 'Shelby GT350',\n",
              "       'Routan', 'A5 Sportback', 'Soul EV', 'SRX', 'Corolla iM', '5',\n",
              "       'Accord Hybrid', 'RS 5', 'NSX', 'X2', 'Civic Hatch', 'E-Golf',\n",
              "       'GTI', 'Eclipse Spyder', 'Freestyle', 'Malibu Limited', 'Ram 3500',\n",
              "       'Viper', 'G80', 'Jetta Hybrid', 'IS 300', 'Juke', 'Cube',\n",
              "       'Clarity', '356 Speedster', 'CX-7', 'XK-Series', 'Shelby Cobra',\n",
              "       'camry', 'Liberty', '356', 'H3', 'Transit-350 Wagon EL', 'MKC',\n",
              "       'Continental Flying Spur', 'Cooper Clubman', 'RC 200t', 'I3',\n",
              "       'X5 eDrive', 'X6 M', '2500', 'Encore', 'Ux', 'Transit Connect',\n",
              "       'RC', 'Palisade', 'Transit-350 Wagon', 'Titan', 'Kizashi',\n",
              "       'Corolla Hybrid', 'Caravan', 'Silverado 1500 Hybrid', 'Spectra',\n",
              "       'RS 3', '500e', 'Rabbit', 'Transit Van', 'Navigator L',\n",
              "       'Promaster Cargo Van', 'Land Cruiser', 'Rio 5-Door', 'LR2',\n",
              "       'Element', 'IS 350 C', 'Dakota', 'Cooper Roadster', 'X7',\n",
              "       '458 Spider', 'M35', 'XL7', 'Uplander', 'Titan XD', 'Regal',\n",
              "       'RX 400h', 'Town Car', 'Van', '8-Series', 'GS 450h', '718',\n",
              "       'Cooper Coupe'], dtype=object)"
            ]
          },
          "metadata": {},
          "execution_count": 58
        }
      ]
    },
    {
      "cell_type": "code",
      "source": [
        "df.to_csv('Doc.csv', index = False)"
      ],
      "metadata": {
        "id": "2zdNia9Z4X9e"
      },
      "execution_count": 54,
      "outputs": []
    }
  ]
}