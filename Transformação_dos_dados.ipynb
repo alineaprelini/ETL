{
  "nbformat": 4,
  "nbformat_minor": 0,
  "metadata": {
    "colab": {
      "provenance": [],
      "authorship_tag": "ABX9TyPb7B+D9TPjL8cQg9IKmlp8",
      "include_colab_link": true
    },
    "kernelspec": {
      "name": "python3",
      "display_name": "Python 3"
    },
    "language_info": {
      "name": "python"
    }
  },
  "cells": [
    {
      "cell_type": "markdown",
      "metadata": {
        "id": "view-in-github",
        "colab_type": "text"
      },
      "source": [
        "<a href=\"https://colab.research.google.com/github/alineaprelini/ETL/blob/main/Transforma%C3%A7%C3%A3o_dos_dados.ipynb\" target=\"_parent\"><img src=\"https://colab.research.google.com/assets/colab-badge.svg\" alt=\"Open In Colab\"/></a>"
      ]
    },
    {
      "cell_type": "code",
      "execution_count": 1,
      "metadata": {
        "id": "COZU4ThDv_oc"
      },
      "outputs": [],
      "source": [
        "import pandas as pd"
      ]
    },
    {
      "cell_type": "code",
      "source": [
        "df = pd.read_csv('CarRentalData.csv')"
      ],
      "metadata": {
        "id": "RAmyYKp9w1TQ"
      },
      "execution_count": 2,
      "outputs": []
    },
    {
      "cell_type": "code",
      "source": [
        "df.head(10)"
      ],
      "metadata": {
        "colab": {
          "base_uri": "https://localhost:8080/",
          "height": 400
        },
        "id": "TwQ7ZwbBxC8A",
        "outputId": "955f8348-e681-4bf7-bc68-940a0905762b"
      },
      "execution_count": 3,
      "outputs": [
        {
          "output_type": "execute_result",
          "data": {
            "text/plain": [
              "   fuelType  rating  renterTripsTaken  reviewCount location.city  \\\n",
              "0  ELECTRIC    5.00                13           12       Seattle   \n",
              "1  ELECTRIC    5.00                 2            1       Tijeras   \n",
              "2    HYBRID    4.92                28           24   Albuquerque   \n",
              "3  GASOLINE    5.00                21           20   Albuquerque   \n",
              "4  GASOLINE    5.00                 3            1   Albuquerque   \n",
              "5  GASOLINE    5.00                13           12   Albuquerque   \n",
              "6  GASOLINE    4.42                13           12   Albuquerque   \n",
              "7  GASOLINE    4.90                12           10   Albuquerque   \n",
              "8  GASOLINE    5.00                 1            1   Albuquerque   \n",
              "9  GASOLINE    4.76                22           17   Albuquerque   \n",
              "\n",
              "  location.country  location.latitude  location.longitude location.state  \\\n",
              "0               US          47.449107         -122.308841             WA   \n",
              "1               US          35.111060         -106.276551             NM   \n",
              "2               US          35.127163         -106.566681             NM   \n",
              "3               US          35.149726         -106.711425             NM   \n",
              "4               US          35.208659         -106.601008             NM   \n",
              "5               US          35.068834         -106.576111             NM   \n",
              "6               US          35.045552         -106.633815             NM   \n",
              "7               US          35.186542         -106.686481             NM   \n",
              "8               US          35.061213         -106.629406             NM   \n",
              "9               US          35.115363         -106.556911             NM   \n",
              "\n",
              "   owner.id  rate.daily   vehicle.make vehicle.model vehicle.type  \\\n",
              "0  12847615         135          Tesla       Model X          suv   \n",
              "1  15621242         190          Tesla       Model X          suv   \n",
              "2  10199256          35         Toyota         Prius          car   \n",
              "3   9365496          75           Ford       Mustang          car   \n",
              "4   3553565          47       Chrysler       Sebring          car   \n",
              "5   7815747          58  Mercedes-Benz      GL-Class          suv   \n",
              "6   3112016          42            GMC      Yukon XL          suv   \n",
              "7   9536762         117           Ford    Expedition          suv   \n",
              "8  14893743         102           Ford      Focus RS          car   \n",
              "9  11389136          49           Ford      EcoSport          suv   \n",
              "\n",
              "   vehicle.year  \n",
              "0          2019  \n",
              "1          2018  \n",
              "2          2012  \n",
              "3          2018  \n",
              "4          2010  \n",
              "5          2012  \n",
              "6          2005  \n",
              "7          2018  \n",
              "8          2016  \n",
              "9          2018  "
            ],
            "text/html": [
              "\n",
              "  <div id=\"df-adf21b33-a7d0-40c6-a29e-61c1decdaf93\" class=\"colab-df-container\">\n",
              "    <div>\n",
              "<style scoped>\n",
              "    .dataframe tbody tr th:only-of-type {\n",
              "        vertical-align: middle;\n",
              "    }\n",
              "\n",
              "    .dataframe tbody tr th {\n",
              "        vertical-align: top;\n",
              "    }\n",
              "\n",
              "    .dataframe thead th {\n",
              "        text-align: right;\n",
              "    }\n",
              "</style>\n",
              "<table border=\"1\" class=\"dataframe\">\n",
              "  <thead>\n",
              "    <tr style=\"text-align: right;\">\n",
              "      <th></th>\n",
              "      <th>fuelType</th>\n",
              "      <th>rating</th>\n",
              "      <th>renterTripsTaken</th>\n",
              "      <th>reviewCount</th>\n",
              "      <th>location.city</th>\n",
              "      <th>location.country</th>\n",
              "      <th>location.latitude</th>\n",
              "      <th>location.longitude</th>\n",
              "      <th>location.state</th>\n",
              "      <th>owner.id</th>\n",
              "      <th>rate.daily</th>\n",
              "      <th>vehicle.make</th>\n",
              "      <th>vehicle.model</th>\n",
              "      <th>vehicle.type</th>\n",
              "      <th>vehicle.year</th>\n",
              "    </tr>\n",
              "  </thead>\n",
              "  <tbody>\n",
              "    <tr>\n",
              "      <th>0</th>\n",
              "      <td>ELECTRIC</td>\n",
              "      <td>5.00</td>\n",
              "      <td>13</td>\n",
              "      <td>12</td>\n",
              "      <td>Seattle</td>\n",
              "      <td>US</td>\n",
              "      <td>47.449107</td>\n",
              "      <td>-122.308841</td>\n",
              "      <td>WA</td>\n",
              "      <td>12847615</td>\n",
              "      <td>135</td>\n",
              "      <td>Tesla</td>\n",
              "      <td>Model X</td>\n",
              "      <td>suv</td>\n",
              "      <td>2019</td>\n",
              "    </tr>\n",
              "    <tr>\n",
              "      <th>1</th>\n",
              "      <td>ELECTRIC</td>\n",
              "      <td>5.00</td>\n",
              "      <td>2</td>\n",
              "      <td>1</td>\n",
              "      <td>Tijeras</td>\n",
              "      <td>US</td>\n",
              "      <td>35.111060</td>\n",
              "      <td>-106.276551</td>\n",
              "      <td>NM</td>\n",
              "      <td>15621242</td>\n",
              "      <td>190</td>\n",
              "      <td>Tesla</td>\n",
              "      <td>Model X</td>\n",
              "      <td>suv</td>\n",
              "      <td>2018</td>\n",
              "    </tr>\n",
              "    <tr>\n",
              "      <th>2</th>\n",
              "      <td>HYBRID</td>\n",
              "      <td>4.92</td>\n",
              "      <td>28</td>\n",
              "      <td>24</td>\n",
              "      <td>Albuquerque</td>\n",
              "      <td>US</td>\n",
              "      <td>35.127163</td>\n",
              "      <td>-106.566681</td>\n",
              "      <td>NM</td>\n",
              "      <td>10199256</td>\n",
              "      <td>35</td>\n",
              "      <td>Toyota</td>\n",
              "      <td>Prius</td>\n",
              "      <td>car</td>\n",
              "      <td>2012</td>\n",
              "    </tr>\n",
              "    <tr>\n",
              "      <th>3</th>\n",
              "      <td>GASOLINE</td>\n",
              "      <td>5.00</td>\n",
              "      <td>21</td>\n",
              "      <td>20</td>\n",
              "      <td>Albuquerque</td>\n",
              "      <td>US</td>\n",
              "      <td>35.149726</td>\n",
              "      <td>-106.711425</td>\n",
              "      <td>NM</td>\n",
              "      <td>9365496</td>\n",
              "      <td>75</td>\n",
              "      <td>Ford</td>\n",
              "      <td>Mustang</td>\n",
              "      <td>car</td>\n",
              "      <td>2018</td>\n",
              "    </tr>\n",
              "    <tr>\n",
              "      <th>4</th>\n",
              "      <td>GASOLINE</td>\n",
              "      <td>5.00</td>\n",
              "      <td>3</td>\n",
              "      <td>1</td>\n",
              "      <td>Albuquerque</td>\n",
              "      <td>US</td>\n",
              "      <td>35.208659</td>\n",
              "      <td>-106.601008</td>\n",
              "      <td>NM</td>\n",
              "      <td>3553565</td>\n",
              "      <td>47</td>\n",
              "      <td>Chrysler</td>\n",
              "      <td>Sebring</td>\n",
              "      <td>car</td>\n",
              "      <td>2010</td>\n",
              "    </tr>\n",
              "    <tr>\n",
              "      <th>5</th>\n",
              "      <td>GASOLINE</td>\n",
              "      <td>5.00</td>\n",
              "      <td>13</td>\n",
              "      <td>12</td>\n",
              "      <td>Albuquerque</td>\n",
              "      <td>US</td>\n",
              "      <td>35.068834</td>\n",
              "      <td>-106.576111</td>\n",
              "      <td>NM</td>\n",
              "      <td>7815747</td>\n",
              "      <td>58</td>\n",
              "      <td>Mercedes-Benz</td>\n",
              "      <td>GL-Class</td>\n",
              "      <td>suv</td>\n",
              "      <td>2012</td>\n",
              "    </tr>\n",
              "    <tr>\n",
              "      <th>6</th>\n",
              "      <td>GASOLINE</td>\n",
              "      <td>4.42</td>\n",
              "      <td>13</td>\n",
              "      <td>12</td>\n",
              "      <td>Albuquerque</td>\n",
              "      <td>US</td>\n",
              "      <td>35.045552</td>\n",
              "      <td>-106.633815</td>\n",
              "      <td>NM</td>\n",
              "      <td>3112016</td>\n",
              "      <td>42</td>\n",
              "      <td>GMC</td>\n",
              "      <td>Yukon XL</td>\n",
              "      <td>suv</td>\n",
              "      <td>2005</td>\n",
              "    </tr>\n",
              "    <tr>\n",
              "      <th>7</th>\n",
              "      <td>GASOLINE</td>\n",
              "      <td>4.90</td>\n",
              "      <td>12</td>\n",
              "      <td>10</td>\n",
              "      <td>Albuquerque</td>\n",
              "      <td>US</td>\n",
              "      <td>35.186542</td>\n",
              "      <td>-106.686481</td>\n",
              "      <td>NM</td>\n",
              "      <td>9536762</td>\n",
              "      <td>117</td>\n",
              "      <td>Ford</td>\n",
              "      <td>Expedition</td>\n",
              "      <td>suv</td>\n",
              "      <td>2018</td>\n",
              "    </tr>\n",
              "    <tr>\n",
              "      <th>8</th>\n",
              "      <td>GASOLINE</td>\n",
              "      <td>5.00</td>\n",
              "      <td>1</td>\n",
              "      <td>1</td>\n",
              "      <td>Albuquerque</td>\n",
              "      <td>US</td>\n",
              "      <td>35.061213</td>\n",
              "      <td>-106.629406</td>\n",
              "      <td>NM</td>\n",
              "      <td>14893743</td>\n",
              "      <td>102</td>\n",
              "      <td>Ford</td>\n",
              "      <td>Focus RS</td>\n",
              "      <td>car</td>\n",
              "      <td>2016</td>\n",
              "    </tr>\n",
              "    <tr>\n",
              "      <th>9</th>\n",
              "      <td>GASOLINE</td>\n",
              "      <td>4.76</td>\n",
              "      <td>22</td>\n",
              "      <td>17</td>\n",
              "      <td>Albuquerque</td>\n",
              "      <td>US</td>\n",
              "      <td>35.115363</td>\n",
              "      <td>-106.556911</td>\n",
              "      <td>NM</td>\n",
              "      <td>11389136</td>\n",
              "      <td>49</td>\n",
              "      <td>Ford</td>\n",
              "      <td>EcoSport</td>\n",
              "      <td>suv</td>\n",
              "      <td>2018</td>\n",
              "    </tr>\n",
              "  </tbody>\n",
              "</table>\n",
              "</div>\n",
              "    <div class=\"colab-df-buttons\">\n",
              "\n",
              "  <div class=\"colab-df-container\">\n",
              "    <button class=\"colab-df-convert\" onclick=\"convertToInteractive('df-adf21b33-a7d0-40c6-a29e-61c1decdaf93')\"\n",
              "            title=\"Convert this dataframe to an interactive table.\"\n",
              "            style=\"display:none;\">\n",
              "\n",
              "  <svg xmlns=\"http://www.w3.org/2000/svg\" height=\"24px\" viewBox=\"0 -960 960 960\">\n",
              "    <path d=\"M120-120v-720h720v720H120Zm60-500h600v-160H180v160Zm220 220h160v-160H400v160Zm0 220h160v-160H400v160ZM180-400h160v-160H180v160Zm440 0h160v-160H620v160ZM180-180h160v-160H180v160Zm440 0h160v-160H620v160Z\"/>\n",
              "  </svg>\n",
              "    </button>\n",
              "\n",
              "  <style>\n",
              "    .colab-df-container {\n",
              "      display:flex;\n",
              "      gap: 12px;\n",
              "    }\n",
              "\n",
              "    .colab-df-convert {\n",
              "      background-color: #E8F0FE;\n",
              "      border: none;\n",
              "      border-radius: 50%;\n",
              "      cursor: pointer;\n",
              "      display: none;\n",
              "      fill: #1967D2;\n",
              "      height: 32px;\n",
              "      padding: 0 0 0 0;\n",
              "      width: 32px;\n",
              "    }\n",
              "\n",
              "    .colab-df-convert:hover {\n",
              "      background-color: #E2EBFA;\n",
              "      box-shadow: 0px 1px 2px rgba(60, 64, 67, 0.3), 0px 1px 3px 1px rgba(60, 64, 67, 0.15);\n",
              "      fill: #174EA6;\n",
              "    }\n",
              "\n",
              "    .colab-df-buttons div {\n",
              "      margin-bottom: 4px;\n",
              "    }\n",
              "\n",
              "    [theme=dark] .colab-df-convert {\n",
              "      background-color: #3B4455;\n",
              "      fill: #D2E3FC;\n",
              "    }\n",
              "\n",
              "    [theme=dark] .colab-df-convert:hover {\n",
              "      background-color: #434B5C;\n",
              "      box-shadow: 0px 1px 3px 1px rgba(0, 0, 0, 0.15);\n",
              "      filter: drop-shadow(0px 1px 2px rgba(0, 0, 0, 0.3));\n",
              "      fill: #FFFFFF;\n",
              "    }\n",
              "  </style>\n",
              "\n",
              "    <script>\n",
              "      const buttonEl =\n",
              "        document.querySelector('#df-adf21b33-a7d0-40c6-a29e-61c1decdaf93 button.colab-df-convert');\n",
              "      buttonEl.style.display =\n",
              "        google.colab.kernel.accessAllowed ? 'block' : 'none';\n",
              "\n",
              "      async function convertToInteractive(key) {\n",
              "        const element = document.querySelector('#df-adf21b33-a7d0-40c6-a29e-61c1decdaf93');\n",
              "        const dataTable =\n",
              "          await google.colab.kernel.invokeFunction('convertToInteractive',\n",
              "                                                    [key], {});\n",
              "        if (!dataTable) return;\n",
              "\n",
              "        const docLinkHtml = 'Like what you see? Visit the ' +\n",
              "          '<a target=\"_blank\" href=https://colab.research.google.com/notebooks/data_table.ipynb>data table notebook</a>'\n",
              "          + ' to learn more about interactive tables.';\n",
              "        element.innerHTML = '';\n",
              "        dataTable['output_type'] = 'display_data';\n",
              "        await google.colab.output.renderOutput(dataTable, element);\n",
              "        const docLink = document.createElement('div');\n",
              "        docLink.innerHTML = docLinkHtml;\n",
              "        element.appendChild(docLink);\n",
              "      }\n",
              "    </script>\n",
              "  </div>\n",
              "\n",
              "\n",
              "<div id=\"df-19df7f72-b909-4ca8-92d9-0b2283366a0d\">\n",
              "  <button class=\"colab-df-quickchart\" onclick=\"quickchart('df-19df7f72-b909-4ca8-92d9-0b2283366a0d')\"\n",
              "            title=\"Suggest charts\"\n",
              "            style=\"display:none;\">\n",
              "\n",
              "<svg xmlns=\"http://www.w3.org/2000/svg\" height=\"24px\"viewBox=\"0 0 24 24\"\n",
              "     width=\"24px\">\n",
              "    <g>\n",
              "        <path d=\"M19 3H5c-1.1 0-2 .9-2 2v14c0 1.1.9 2 2 2h14c1.1 0 2-.9 2-2V5c0-1.1-.9-2-2-2zM9 17H7v-7h2v7zm4 0h-2V7h2v10zm4 0h-2v-4h2v4z\"/>\n",
              "    </g>\n",
              "</svg>\n",
              "  </button>\n",
              "\n",
              "<style>\n",
              "  .colab-df-quickchart {\n",
              "      --bg-color: #E8F0FE;\n",
              "      --fill-color: #1967D2;\n",
              "      --hover-bg-color: #E2EBFA;\n",
              "      --hover-fill-color: #174EA6;\n",
              "      --disabled-fill-color: #AAA;\n",
              "      --disabled-bg-color: #DDD;\n",
              "  }\n",
              "\n",
              "  [theme=dark] .colab-df-quickchart {\n",
              "      --bg-color: #3B4455;\n",
              "      --fill-color: #D2E3FC;\n",
              "      --hover-bg-color: #434B5C;\n",
              "      --hover-fill-color: #FFFFFF;\n",
              "      --disabled-bg-color: #3B4455;\n",
              "      --disabled-fill-color: #666;\n",
              "  }\n",
              "\n",
              "  .colab-df-quickchart {\n",
              "    background-color: var(--bg-color);\n",
              "    border: none;\n",
              "    border-radius: 50%;\n",
              "    cursor: pointer;\n",
              "    display: none;\n",
              "    fill: var(--fill-color);\n",
              "    height: 32px;\n",
              "    padding: 0;\n",
              "    width: 32px;\n",
              "  }\n",
              "\n",
              "  .colab-df-quickchart:hover {\n",
              "    background-color: var(--hover-bg-color);\n",
              "    box-shadow: 0 1px 2px rgba(60, 64, 67, 0.3), 0 1px 3px 1px rgba(60, 64, 67, 0.15);\n",
              "    fill: var(--button-hover-fill-color);\n",
              "  }\n",
              "\n",
              "  .colab-df-quickchart-complete:disabled,\n",
              "  .colab-df-quickchart-complete:disabled:hover {\n",
              "    background-color: var(--disabled-bg-color);\n",
              "    fill: var(--disabled-fill-color);\n",
              "    box-shadow: none;\n",
              "  }\n",
              "\n",
              "  .colab-df-spinner {\n",
              "    border: 2px solid var(--fill-color);\n",
              "    border-color: transparent;\n",
              "    border-bottom-color: var(--fill-color);\n",
              "    animation:\n",
              "      spin 1s steps(1) infinite;\n",
              "  }\n",
              "\n",
              "  @keyframes spin {\n",
              "    0% {\n",
              "      border-color: transparent;\n",
              "      border-bottom-color: var(--fill-color);\n",
              "      border-left-color: var(--fill-color);\n",
              "    }\n",
              "    20% {\n",
              "      border-color: transparent;\n",
              "      border-left-color: var(--fill-color);\n",
              "      border-top-color: var(--fill-color);\n",
              "    }\n",
              "    30% {\n",
              "      border-color: transparent;\n",
              "      border-left-color: var(--fill-color);\n",
              "      border-top-color: var(--fill-color);\n",
              "      border-right-color: var(--fill-color);\n",
              "    }\n",
              "    40% {\n",
              "      border-color: transparent;\n",
              "      border-right-color: var(--fill-color);\n",
              "      border-top-color: var(--fill-color);\n",
              "    }\n",
              "    60% {\n",
              "      border-color: transparent;\n",
              "      border-right-color: var(--fill-color);\n",
              "    }\n",
              "    80% {\n",
              "      border-color: transparent;\n",
              "      border-right-color: var(--fill-color);\n",
              "      border-bottom-color: var(--fill-color);\n",
              "    }\n",
              "    90% {\n",
              "      border-color: transparent;\n",
              "      border-bottom-color: var(--fill-color);\n",
              "    }\n",
              "  }\n",
              "</style>\n",
              "\n",
              "  <script>\n",
              "    async function quickchart(key) {\n",
              "      const quickchartButtonEl =\n",
              "        document.querySelector('#' + key + ' button');\n",
              "      quickchartButtonEl.disabled = true;  // To prevent multiple clicks.\n",
              "      quickchartButtonEl.classList.add('colab-df-spinner');\n",
              "      try {\n",
              "        const charts = await google.colab.kernel.invokeFunction(\n",
              "            'suggestCharts', [key], {});\n",
              "      } catch (error) {\n",
              "        console.error('Error during call to suggestCharts:', error);\n",
              "      }\n",
              "      quickchartButtonEl.classList.remove('colab-df-spinner');\n",
              "      quickchartButtonEl.classList.add('colab-df-quickchart-complete');\n",
              "    }\n",
              "    (() => {\n",
              "      let quickchartButtonEl =\n",
              "        document.querySelector('#df-19df7f72-b909-4ca8-92d9-0b2283366a0d button');\n",
              "      quickchartButtonEl.style.display =\n",
              "        google.colab.kernel.accessAllowed ? 'block' : 'none';\n",
              "    })();\n",
              "  </script>\n",
              "</div>\n",
              "\n",
              "    </div>\n",
              "  </div>\n"
            ],
            "application/vnd.google.colaboratory.intrinsic+json": {
              "type": "dataframe",
              "variable_name": "df",
              "summary": "{\n  \"name\": \"df\",\n  \"rows\": 5851,\n  \"fields\": [\n    {\n      \"column\": \"fuelType\",\n      \"properties\": {\n        \"dtype\": \"category\",\n        \"num_unique_values\": 4,\n        \"samples\": [\n          \"HYBRID\",\n          \"DIESEL\",\n          \"ELECTRIC\"\n        ],\n        \"semantic_type\": \"\",\n        \"description\": \"\"\n      }\n    },\n    {\n      \"column\": \"rating\",\n      \"properties\": {\n        \"dtype\": \"number\",\n        \"std\": 0.18242525703752777,\n        \"min\": 1.0,\n        \"max\": 5.0,\n        \"num_unique_values\": 80,\n        \"samples\": [\n          4.51,\n          5.0,\n          4.99\n        ],\n        \"semantic_type\": \"\",\n        \"description\": \"\"\n      }\n    },\n    {\n      \"column\": \"renterTripsTaken\",\n      \"properties\": {\n        \"dtype\": \"number\",\n        \"std\": 41,\n        \"min\": 0,\n        \"max\": 395,\n        \"num_unique_values\": 238,\n        \"samples\": [\n          172,\n          4,\n          162\n        ],\n        \"semantic_type\": \"\",\n        \"description\": \"\"\n      }\n    },\n    {\n      \"column\": \"reviewCount\",\n      \"properties\": {\n        \"dtype\": \"number\",\n        \"std\": 35,\n        \"min\": 0,\n        \"max\": 321,\n        \"num_unique_values\": 203,\n        \"samples\": [\n          18,\n          56,\n          108\n        ],\n        \"semantic_type\": \"\",\n        \"description\": \"\"\n      }\n    },\n    {\n      \"column\": \"location.city\",\n      \"properties\": {\n        \"dtype\": \"category\",\n        \"num_unique_values\": 971,\n        \"samples\": [\n          \"North Royalton\",\n          \"Los Gatos\",\n          \"Cromwell\"\n        ],\n        \"semantic_type\": \"\",\n        \"description\": \"\"\n      }\n    },\n    {\n      \"column\": \"location.country\",\n      \"properties\": {\n        \"dtype\": \"category\",\n        \"num_unique_values\": 1,\n        \"samples\": [\n          \"US\"\n        ],\n        \"semantic_type\": \"\",\n        \"description\": \"\"\n      }\n    },\n    {\n      \"column\": \"location.latitude\",\n      \"properties\": {\n        \"dtype\": \"number\",\n        \"std\": 6.431408483050628,\n        \"min\": 21.272565,\n        \"max\": 64.89361,\n        \"num_unique_values\": 5839,\n        \"samples\": [\n          47.147336\n        ],\n        \"semantic_type\": \"\",\n        \"description\": \"\"\n      }\n    },\n    {\n      \"column\": \"location.longitude\",\n      \"properties\": {\n        \"dtype\": \"number\",\n        \"std\": 20.391476326143042,\n        \"min\": -158.165693,\n        \"max\": -68.823637,\n        \"num_unique_values\": 5834,\n        \"samples\": [\n          -87.753159\n        ],\n        \"semantic_type\": \"\",\n        \"description\": \"\"\n      }\n    },\n    {\n      \"column\": \"location.state\",\n      \"properties\": {\n        \"dtype\": \"category\",\n        \"num_unique_values\": 46,\n        \"samples\": [\n          \"PA\"\n        ],\n        \"semantic_type\": \"\",\n        \"description\": \"\"\n      }\n    },\n    {\n      \"column\": \"owner.id\",\n      \"properties\": {\n        \"dtype\": \"number\",\n        \"std\": 4646021,\n        \"min\": 5105,\n        \"max\": 15810882,\n        \"num_unique_values\": 3093,\n        \"samples\": [\n          254719\n        ],\n        \"semantic_type\": \"\",\n        \"description\": \"\"\n      }\n    },\n    {\n      \"column\": \"rate.daily\",\n      \"properties\": {\n        \"dtype\": \"number\",\n        \"std\": 96,\n        \"min\": 20,\n        \"max\": 1500,\n        \"num_unique_values\": 294,\n        \"samples\": [\n          98\n        ],\n        \"semantic_type\": \"\",\n        \"description\": \"\"\n      }\n    },\n    {\n      \"column\": \"vehicle.make\",\n      \"properties\": {\n        \"dtype\": \"category\",\n        \"num_unique_values\": 54,\n        \"samples\": [\n          \"BMW\"\n        ],\n        \"semantic_type\": \"\",\n        \"description\": \"\"\n      }\n    },\n    {\n      \"column\": \"vehicle.model\",\n      \"properties\": {\n        \"dtype\": \"category\",\n        \"num_unique_values\": 526,\n        \"samples\": [\n          \"6\"\n        ],\n        \"semantic_type\": \"\",\n        \"description\": \"\"\n      }\n    },\n    {\n      \"column\": \"vehicle.type\",\n      \"properties\": {\n        \"dtype\": \"category\",\n        \"num_unique_values\": 5,\n        \"samples\": [\n          \"car\"\n        ],\n        \"semantic_type\": \"\",\n        \"description\": \"\"\n      }\n    },\n    {\n      \"column\": \"vehicle.year\",\n      \"properties\": {\n        \"dtype\": \"number\",\n        \"std\": 4,\n        \"min\": 1955,\n        \"max\": 2020,\n        \"num_unique_values\": 34,\n        \"samples\": [\n          2006\n        ],\n        \"semantic_type\": \"\",\n        \"description\": \"\"\n      }\n    }\n  ]\n}"
            }
          },
          "metadata": {},
          "execution_count": 3
        }
      ]
    },
    {
      "cell_type": "code",
      "source": [
        "df.columns"
      ],
      "metadata": {
        "colab": {
          "base_uri": "https://localhost:8080/"
        },
        "id": "n838Iw3vxQPP",
        "outputId": "78595e81-d785-4179-b4d7-1f4dadedce00"
      },
      "execution_count": 4,
      "outputs": [
        {
          "output_type": "execute_result",
          "data": {
            "text/plain": [
              "Index(['fuelType', 'rating', 'renterTripsTaken', 'reviewCount',\n",
              "       'location.city', 'location.country', 'location.latitude',\n",
              "       'location.longitude', 'location.state', 'owner.id', 'rate.daily',\n",
              "       'vehicle.make', 'vehicle.model', 'vehicle.type', 'vehicle.year'],\n",
              "      dtype='object')"
            ]
          },
          "metadata": {},
          "execution_count": 4
        }
      ]
    },
    {
      "cell_type": "code",
      "source": [
        "#Renomear colunas\n",
        "\n",
        "df = df.rename(columns = {\n",
        "    'fuelType':'Tipo_Combustivel',\n",
        "    'rating' :'Avaliacao',\n",
        "    'renterTripsTaken': 'Aluguel_Viagens_realizadas',\n",
        "    'reviewCount': 'Contagem_revisao',\n",
        "    'location.city':'Cidade',\n",
        "    'location.country': 'Pais',\n",
        "    'location.latitude': 'Latitude',\n",
        "    'location.longitude':'Longitude',\n",
        "    'location.state':'Estado',\n",
        "    'owner.id': 'ID_Proprietario',\n",
        "    'owner.name': 'Nome_Proprietario',\n",
        "    'rate.daily': 'Taxa_diaria',\n",
        "    'vehicle.make': 'Marca_veiculo',\n",
        "    'vehicle.model': 'Modelo_veiculo',\n",
        "    'vehicle.year': 'Ano_veiculo',\n",
        "    'vehicle.type': 'Tipo_veículo'\n",
        "})\n",
        "\n",
        "df.columns"
      ],
      "metadata": {
        "colab": {
          "base_uri": "https://localhost:8080/"
        },
        "id": "jtnjpB-uxHFg",
        "outputId": "9955bc60-8825-4ae5-de69-b9ccf9e76eee"
      },
      "execution_count": 8,
      "outputs": [
        {
          "output_type": "execute_result",
          "data": {
            "text/plain": [
              "Index(['Tipo_Combustivel', 'Avaliacao', 'Aluguel_Viagens_realizadas',\n",
              "       'Contagem_revisao', 'Cidade', 'Pais', 'Latitude', 'Longitude', 'Estado',\n",
              "       'ID_Proprietario', 'Taxa_diaria', 'Marca_veiculo', 'Modelo_veiculo',\n",
              "       'Tipo_veículo', 'Ano_veiculo'],\n",
              "      dtype='object')"
            ]
          },
          "metadata": {},
          "execution_count": 8
        }
      ]
    },
    {
      "cell_type": "code",
      "source": [
        "df['Tipo_Combustivel'].unique()"
      ],
      "metadata": {
        "colab": {
          "base_uri": "https://localhost:8080/"
        },
        "id": "XNYFF_yszDFn",
        "outputId": "2118a8b7-2ff0-433f-8dbe-4671ac446ca8"
      },
      "execution_count": 9,
      "outputs": [
        {
          "output_type": "execute_result",
          "data": {
            "text/plain": [
              "array(['ELECTRIC', 'HYBRID', 'GASOLINE', nan, 'DIESEL'], dtype=object)"
            ]
          },
          "metadata": {},
          "execution_count": 9
        }
      ]
    },
    {
      "cell_type": "code",
      "source": [
        "#Renomear\n",
        "df['Tipo_Combustivel'] = df['Tipo_Combustivel'].str.replace('ELECTRIC', 'Eletrico').replace('HYBRID', 'Hibrido').replace('DIESEL', 'Diesel').replace('GASOLINE', 'Gasolina').fillna('Não Informado')"
      ],
      "metadata": {
        "id": "2puPeVaqy5AJ"
      },
      "execution_count": 16,
      "outputs": []
    },
    {
      "cell_type": "code",
      "source": [
        "df['Tipo_Combustivel'].unique()"
      ],
      "metadata": {
        "colab": {
          "base_uri": "https://localhost:8080/"
        },
        "id": "kOJK7aMvzj0h",
        "outputId": "b0551038-c2f9-4c3d-883c-88fe83760d07"
      },
      "execution_count": 17,
      "outputs": [
        {
          "output_type": "execute_result",
          "data": {
            "text/plain": [
              "array(['Eletrico', 'Hibrido', 'Gasolina', 'Não Informado', 'Diesel'],\n",
              "      dtype=object)"
            ]
          },
          "metadata": {},
          "execution_count": 17
        }
      ]
    },
    {
      "cell_type": "code",
      "source": [
        "df['Pais'].unique()"
      ],
      "metadata": {
        "colab": {
          "base_uri": "https://localhost:8080/"
        },
        "id": "f6liRcBKzmmx",
        "outputId": "b17e9cef-e261-4149-f1ff-816e479082ed"
      },
      "execution_count": 18,
      "outputs": [
        {
          "output_type": "execute_result",
          "data": {
            "text/plain": [
              "array(['US'], dtype=object)"
            ]
          },
          "metadata": {},
          "execution_count": 18
        }
      ]
    },
    {
      "cell_type": "code",
      "source": [
        "df['Pais'] = df['Pais'].str.replace('US', 'Estados Unidos')"
      ],
      "metadata": {
        "id": "xKiD-VeOzxpZ"
      },
      "execution_count": 20,
      "outputs": []
    },
    {
      "cell_type": "code",
      "source": [
        "df['Pais'].unique()"
      ],
      "metadata": {
        "colab": {
          "base_uri": "https://localhost:8080/"
        },
        "id": "sOf3lz-Yz4fh",
        "outputId": "7d08c98f-cc00-4f25-cd71-b463867f73b5"
      },
      "execution_count": 21,
      "outputs": [
        {
          "output_type": "execute_result",
          "data": {
            "text/plain": [
              "array(['Estados Unidos'], dtype=object)"
            ]
          },
          "metadata": {},
          "execution_count": 21
        }
      ]
    },
    {
      "cell_type": "code",
      "source": [
        "df['Tipo_veículo'].unique()"
      ],
      "metadata": {
        "colab": {
          "base_uri": "https://localhost:8080/"
        },
        "id": "aEg5WxvOz9_5",
        "outputId": "c1001551-256a-4b24-dcfe-32c503069bc9"
      },
      "execution_count": 22,
      "outputs": [
        {
          "output_type": "execute_result",
          "data": {
            "text/plain": [
              "array(['suv', 'car', 'truck', 'minivan', 'van'], dtype=object)"
            ]
          },
          "metadata": {},
          "execution_count": 22
        }
      ]
    },
    {
      "cell_type": "code",
      "source": [
        "df['Tipo_veículo'] = df['Tipo_veículo'].str.replace('suv', 'SUV').replace('car', 'Carro').replace('truck', 'Caminhão').replace('minivan', 'Mini Van').replace('van', 'Van')"
      ],
      "metadata": {
        "id": "Vn5uQyQq0A_Q"
      },
      "execution_count": 23,
      "outputs": []
    },
    {
      "cell_type": "code",
      "source": [
        "df['Tipo_veículo'].unique()"
      ],
      "metadata": {
        "colab": {
          "base_uri": "https://localhost:8080/"
        },
        "id": "Jht2sF0k0fFl",
        "outputId": "d81bc4ff-9d13-40cf-d05d-16f96f9e8e47"
      },
      "execution_count": 24,
      "outputs": [
        {
          "output_type": "execute_result",
          "data": {
            "text/plain": [
              "array(['SUV', 'Carro', 'Caminhão', 'Mini Van', 'Van'], dtype=object)"
            ]
          },
          "metadata": {},
          "execution_count": 24
        }
      ]
    },
    {
      "cell_type": "code",
      "source": [
        "#Campos vazios\n",
        "df.isna().sum()"
      ],
      "metadata": {
        "colab": {
          "base_uri": "https://localhost:8080/"
        },
        "id": "mEouW42Y0u5h",
        "outputId": "b4cab7e6-04e2-4aa7-a79f-5a5b614a428e"
      },
      "execution_count": 25,
      "outputs": [
        {
          "output_type": "execute_result",
          "data": {
            "text/plain": [
              "Tipo_Combustivel                0\n",
              "Avaliacao                     501\n",
              "Aluguel_Viagens_realizadas      0\n",
              "Contagem_revisao                0\n",
              "Cidade                          0\n",
              "Pais                            0\n",
              "Latitude                        0\n",
              "Longitude                       0\n",
              "Estado                          0\n",
              "ID_Proprietario                 0\n",
              "Taxa_diaria                     0\n",
              "Marca_veiculo                   0\n",
              "Modelo_veiculo                  0\n",
              "Tipo_veículo                    0\n",
              "Ano_veiculo                     0\n",
              "dtype: int64"
            ]
          },
          "metadata": {},
          "execution_count": 25
        }
      ]
    },
    {
      "cell_type": "code",
      "source": [
        "df['Avaliacao'].unique()"
      ],
      "metadata": {
        "colab": {
          "base_uri": "https://localhost:8080/"
        },
        "id": "7dFwu-PN0yeB",
        "outputId": "5b5d2b21-35c5-4a20-8652-e7c2e2424b2c"
      },
      "execution_count": 26,
      "outputs": [
        {
          "output_type": "execute_result",
          "data": {
            "text/plain": [
              "array([5.  , 4.92, 4.42, 4.9 , 4.76, 4.95, 4.7 , 4.88, 4.5 ,  nan, 4.67,\n",
              "       4.72, 4.85, 4.82, 4.8 , 4.58, 4.83, 4.94, 4.93, 4.89, 4.87, 4.96,\n",
              "       4.97, 4.99, 4.84, 4.98, 4.86, 4.91, 4.73, 4.74, 4.77, 4.51, 4.75,\n",
              "       4.63, 4.78, 4.81, 4.79, 4.69, 3.86, 4.66, 4.48, 4.6 , 4.71, 4.64,\n",
              "       4.65, 4.44, 4.57, 4.38, 4.29, 4.56, 4.2 , 4.33, 4.  , 4.17, 4.37,\n",
              "       4.41, 4.55, 3.  , 4.68, 4.61, 4.53, 4.62, 4.59, 2.  , 4.08, 3.5 ,\n",
              "       4.43, 4.54, 3.67, 1.5 , 1.  , 4.25, 4.4 , 4.52, 3.56, 3.25, 4.46,\n",
              "       4.36, 4.39, 4.47, 4.18])"
            ]
          },
          "metadata": {},
          "execution_count": 26
        }
      ]
    },
    {
      "cell_type": "code",
      "source": [
        "df['Avaliacao'].describe()"
      ],
      "metadata": {
        "colab": {
          "base_uri": "https://localhost:8080/"
        },
        "id": "woDSx1Mm1KgR",
        "outputId": "da2e1090-42d4-4967-b69f-694a291769ef"
      },
      "execution_count": 27,
      "outputs": [
        {
          "output_type": "execute_result",
          "data": {
            "text/plain": [
              "count    5350.000000\n",
              "mean        4.920325\n",
              "std         0.182425\n",
              "min         1.000000\n",
              "25%         4.900000\n",
              "50%         5.000000\n",
              "75%         5.000000\n",
              "max         5.000000\n",
              "Name: Avaliacao, dtype: float64"
            ]
          },
          "metadata": {},
          "execution_count": 27
        }
      ]
    },
    {
      "cell_type": "code",
      "source": [
        "#Substituir NAN por Zero\n",
        "df['Avaliacao'] = df['Avaliacao'].fillna(0)"
      ],
      "metadata": {
        "id": "iDzoNODI1QUL"
      },
      "execution_count": 28,
      "outputs": []
    },
    {
      "cell_type": "code",
      "source": [
        "#Campos vazios\n",
        "df.isna().sum()"
      ],
      "metadata": {
        "colab": {
          "base_uri": "https://localhost:8080/"
        },
        "id": "OVOz5QUC1apq",
        "outputId": "1af74987-7973-46fa-b489-af6fbfa93418"
      },
      "execution_count": 29,
      "outputs": [
        {
          "output_type": "execute_result",
          "data": {
            "text/plain": [
              "Tipo_Combustivel              0\n",
              "Avaliacao                     0\n",
              "Aluguel_Viagens_realizadas    0\n",
              "Contagem_revisao              0\n",
              "Cidade                        0\n",
              "Pais                          0\n",
              "Latitude                      0\n",
              "Longitude                     0\n",
              "Estado                        0\n",
              "ID_Proprietario               0\n",
              "Taxa_diaria                   0\n",
              "Marca_veiculo                 0\n",
              "Modelo_veiculo                0\n",
              "Tipo_veículo                  0\n",
              "Ano_veiculo                   0\n",
              "dtype: int64"
            ]
          },
          "metadata": {},
          "execution_count": 29
        }
      ]
    }
  ]
}